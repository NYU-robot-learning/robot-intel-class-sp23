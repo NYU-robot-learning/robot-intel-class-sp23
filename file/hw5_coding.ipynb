{
  "nbformat": 4,
  "nbformat_minor": 0,
  "metadata": {
    "colab": {
      "provenance": []
    },
    "kernelspec": {
      "name": "python3",
      "display_name": "Python 3"
    },
    "language_info": {
      "name": "python"
    }
  },
  "cells": [
    {
      "cell_type": "markdown",
      "source": [
        "# Introduction to Robot Intelligence HW 5: Coding Questions\n",
        "\n",
        "The is the coding potion of Homework 5. For submission instructions, please see the theory portion of Homework 5.\n",
        "\n",
        "This portion of the homework consists of a single problem."
      ],
      "metadata": {
        "id": "1tnf10td3R_1"
      }
    },
    {
      "cell_type": "markdown",
      "source": [
        "## Problem 1: Linear Quadratic Regulator for Mysterious Manipulator\n"
      ],
      "metadata": {
        "id": "GE3iJqInEalN"
      }
    },
    {
      "cell_type": "markdown",
      "source": [
        "Consider a myserious 2-DOF robot manipulator with dynamics governed by the equation below."
      ],
      "metadata": {
        "id": "iwUI0Rybkql-"
      }
    },
    {
      "cell_type": "markdown",
      "source": [
        "$$\\begin{align} \\ddot{x}_1 &= 0.1 \\cdot \\dot{x}_1 + u_{1}\\\\ \n",
        "\\ddot{x}_2 &= 0.01 \\cdot g \\cdot x_2 + u_2\\end{align}$$"
      ],
      "metadata": {
        "id": "6IrpFUkpk6Wq"
      }
    },
    {
      "cell_type": "markdown",
      "source": [
        "We want to write out a numerical LQR solver to find the control torques $\\mathbf{u} = [u_1 \\ \\ u_2]$ such that the state of the manipulator $\\mathbf{x} = [x_1 \\ \\ x_2 \\ \\ \\dot{x}_1 \\ \\ \\dot{x}_2]$ is kept at equilibrium, $\\mathbf{x} = \\boldsymbol 0$. To that end, fill in the undefined functions and definitions below.\n",
        "\n",
        "\n",
        "If you are stuck, you may find referring to [Tutorial 5](https://colab.research.google.com/drive/1zcJbQe7PUcqMU_hiNbGcmWF4YqH0FJ3H?usp=sharing) helpful."
      ],
      "metadata": {
        "id": "NkZ5t8O5uf1B"
      }
    },
    {
      "cell_type": "code",
      "source": [
        "import autograd.numpy as np\n",
        "from autograd import grad, jacobian\n",
        "\n",
        "## DO NOT MODIFY THESE GLOBAL DEFINITIONS\n",
        "Q = np.eye(4)\n",
        "R = 1*np.eye(2)\n",
        "g = 9.8"
      ],
      "metadata": {
        "id": "H0fLuL64vFWI"
      },
      "execution_count": null,
      "outputs": []
    },
    {
      "cell_type": "code",
      "source": [
        "def mysterious_manipulator_dynamics(vec_x, vec_u, delta_t=0.1):\n",
        "\t\"\"\"\n",
        "\tInputs\n",
        "\t\tvec_x: (np.ndarray with shape (4,)) [x1, x2, dot_x1, dot_x2]\n",
        "\t\tvec_u: (np.ndarray with shape (2,)) [u1, u2]\n",
        "\t\tdelta_t: constant\n",
        "\n",
        "\tOutputs\n",
        "\t\tA np.ndarray with shape (4,) representing vec_x at time (t + delta_t)\n",
        "\t\"\"\"\n",
        "\traise NotImplementedError()"
      ],
      "metadata": {
        "id": "SPe6UMEqIFd8"
      },
      "execution_count": null,
      "outputs": []
    },
    {
      "cell_type": "code",
      "source": [
        "## Get the dynamics matrices A, B (separating dynamics across terms in state vs.\n",
        "## terms in control) for LQR via your implementation \n",
        "## `mysterious_manipulator_dynamics`.\n",
        "A = None\n",
        "B = None"
      ],
      "metadata": {
        "id": "gTS4XCRWs72Q"
      },
      "execution_count": null,
      "outputs": []
    },
    {
      "cell_type": "code",
      "source": [
        "# Dynamic programming to compute K and V matrices backwards in time\n",
        "def lqr_value_iteration(A, B, Q=Q, R=R, H=100):\n",
        "  \"\"\"\n",
        "  Use the LQR steady-state update rule to compute the matrices K and V backwards\n",
        "  in time. Return lists of V and K matrices (s.t. V[0], K[0] correspond to the\n",
        "  first computed values of V, K respectively).\n",
        "\n",
        "  Inputs\n",
        "    A: (np.ndarray with shape (4,4))). Dynamics terms in state.\n",
        "    B: (np.ndarray with shape (4,2)). Dynamics terms in control\n",
        "    Q: (np.ndarray with shape (4,4)). Positive semi-definite.\n",
        "    R: (np.ndarray with shape (2,2)). Positive definite.\n",
        "    H: number of iteration steps to do.\n",
        "  Returns\n",
        "    V_list: (Python list with length H of (4,4) np.ndarrays). Consists of all\n",
        "     computed V matrices.\n",
        "    K_list: (Python list with length H of (1,2) np.ndarrays). Consists of all\n",
        "     computed K matrices.\n",
        "  \"\"\"\n",
        "  raise NotImplementedError()"
      ],
      "metadata": {
        "id": "fDz1P8ZNsHjN"
      },
      "execution_count": null,
      "outputs": []
    },
    {
      "cell_type": "code",
      "source": [
        "\"\"\"\n",
        "TEST CASES\n",
        "\n",
        "Use these test cases to check your code. All errors should be zero given the \n",
        "rounding defined here.\n",
        "\"\"\"\n",
        "import numpy as np\n",
        "from tabulate import tabulate\n",
        "\n",
        "def _forward_simulate(x_0, K, H):\n",
        "  x_traj, u_traj = [], []\n",
        "  x = x_0\n",
        "  for t in range(H):\n",
        "    u = K @ x\n",
        "    x_traj.append(x)\n",
        "    u_traj.append(u)\n",
        "    x = mysterious_manipulator_dynamics(x, u)\n",
        "  return x_traj, u_traj\n",
        "\n",
        "assert not A is None and not B is None\n",
        "\n",
        "H = 1000\n",
        "V_list, K_list = lqr_value_iteration(A, B, Q, R, H=H)\n",
        "\n",
        "test_x0 = [[1, 0.01, 0.01, 1],\n",
        "            [0.01, 0.01, 0.01, 0],\n",
        "            [1, 3, 0.01, 2],\n",
        "            [2, 0.01, 1, 0.01],\n",
        "            [-1, 0.01, 1, -1],\n",
        "            [-1, 6, 1, 1]]\n",
        "\n",
        "expected_u0 = [[-0.9299836877065533, -1.6949506700118182], \n",
        "               [-0.026456190828435207, -0.01016999909840031], \n",
        "               [-0.9299836877065533, -6.420561071346928], \n",
        "               [-3.558273120094145, -0.02701780580753449], \n",
        "               [-0.8203110083422721, 1.6746106718150175], \n",
        "               [-0.8203110083422721, -7.786780129953603]]\n",
        "\n",
        "expected_u1 = [[-0.7656675123060327, -1.5026399167094364], \n",
        "               [-0.022841212499060792, -0.008574954672458135], \n",
        "               [-0.7656675123060327, -5.560616325811397], \n",
        "               [-3.0344508456706976, -0.023515604292827924], \n",
        "               [-0.7834620583768432, 1.4854900073645203], \n",
        "               [-0.7834620583768432, -6.639037765511859]]\n",
        "\n",
        "expected_u15 = [[0.164445609335082, -0.16411805690945114],\n",
        "                [0.00036512682757059746, 0.0007651323047314232], \n",
        "                [0.164445609335082, -0.10022668700893789], \n",
        "                [0.20225054387575825, -0.0008836995874103998], \n",
        "                [-0.29496303948033714, 0.1656483215189139], \n",
        "                [-0.29496303948033714, 0.2941961936246722]]\n",
        "\n",
        "results = []\n",
        "for x0, exp_u0, exp_u1, exp_u15 in zip(test_x0, expected_u0, expected_u1, expected_u15):\n",
        "    x_traj, u_traj = _forward_simulate(x0, K_list[-1], H)\n",
        "    final_control_err = np.linalg.norm(x_traj[-1])\n",
        "    u0_err = np.linalg.norm(u_traj[0] - exp_u0)\n",
        "    u1_err = np.linalg.norm(u_traj[1] - exp_u1)\n",
        "    u15_err = np.linalg.norm(u_traj[15] - exp_u15)\n",
        "    \n",
        "    results.append([x0, control_err.round(2), u0_err.round(2), u1_err.round(2), u15_err.round(2)])\n",
        "\n",
        "print(tabulate(results, headers=['x0', 'final pos error', 'control at t=0 error', 'control at t=1 error', 'control at t=15 error']))"
      ],
      "metadata": {
        "id": "s6wfym-kJKK-",
        "colab": {
          "base_uri": "https://localhost:8080/",
          "height": 235
        },
        "outputId": "46ef0952-c3de-4e2b-d18e-3e5f1dc7f70f"
      },
      "execution_count": null,
      "outputs": [
        {
          "output_type": "error",
          "ename": "AssertionError",
          "evalue": "ignored",
          "traceback": [
            "\u001b[0;31m---------------------------------------------------------------------------\u001b[0m",
            "\u001b[0;31mAssertionError\u001b[0m                            Traceback (most recent call last)",
            "\u001b[0;32m<ipython-input-8-f8cee4e225f6>\u001b[0m in \u001b[0;36m<cell line: 19>\u001b[0;34m()\u001b[0m\n\u001b[1;32m     17\u001b[0m   \u001b[0;32mreturn\u001b[0m \u001b[0mx_traj\u001b[0m\u001b[0;34m,\u001b[0m \u001b[0mu_traj\u001b[0m\u001b[0;34m\u001b[0m\u001b[0;34m\u001b[0m\u001b[0m\n\u001b[1;32m     18\u001b[0m \u001b[0;34m\u001b[0m\u001b[0m\n\u001b[0;32m---> 19\u001b[0;31m \u001b[0;32massert\u001b[0m \u001b[0;32mnot\u001b[0m \u001b[0mA\u001b[0m \u001b[0;32mis\u001b[0m \u001b[0;32mNone\u001b[0m \u001b[0;32mand\u001b[0m \u001b[0;32mnot\u001b[0m \u001b[0mB\u001b[0m \u001b[0;32mis\u001b[0m \u001b[0;32mNone\u001b[0m\u001b[0;34m\u001b[0m\u001b[0;34m\u001b[0m\u001b[0m\n\u001b[0m\u001b[1;32m     20\u001b[0m \u001b[0;34m\u001b[0m\u001b[0m\n\u001b[1;32m     21\u001b[0m \u001b[0mH\u001b[0m \u001b[0;34m=\u001b[0m \u001b[0;36m1000\u001b[0m\u001b[0;34m\u001b[0m\u001b[0;34m\u001b[0m\u001b[0m\n",
            "\u001b[0;31mAssertionError\u001b[0m: "
          ]
        }
      ]
    }
  ]
}