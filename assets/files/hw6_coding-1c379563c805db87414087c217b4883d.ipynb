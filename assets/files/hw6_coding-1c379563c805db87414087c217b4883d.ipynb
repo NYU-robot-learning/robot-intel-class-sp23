{
  "nbformat": 4,
  "nbformat_minor": 0,
  "metadata": {
    "colab": {
      "provenance": []
    },
    "kernelspec": {
      "name": "python3",
      "display_name": "Python 3"
    },
    "language_info": {
      "name": "python"
    }
  },
  "cells": [
    {
      "cell_type": "markdown",
      "source": [
        "# Introduction to Robot Intelligence HW 6: Coding Questions\n",
        "\n",
        "The is the coding potion of Homework 6. For submission instructions, please see the theory portion of Homework 6.\n",
        "\n",
        "This portion of the homework consists of a single problem."
      ],
      "metadata": {
        "id": "1tnf10td3R_1"
      }
    },
    {
      "cell_type": "markdown",
      "source": [
        "## Problem 1: A-Star for a Maze"
      ],
      "metadata": {
        "id": "GE3iJqInEalN"
      }
    },
    {
      "cell_type": "markdown",
      "source": [
        "In Tutorial 7, we saw an implementation of Dijkstra's algorithm for graphs defined via edge lists, each each in the graph consisting of a start node, an end node, and an associated edge-cost."
      ],
      "metadata": {
        "id": "Ygc4g-hvuvqJ"
      }
    },
    {
      "cell_type": "markdown",
      "source": [
        "In this problem, your goal is to implement the A-star algorithm for 2-D mazes. A 2-D maze is defined with a list of lists, consisting of ones and zeros. A \"1\" indicates the presence of a maze wall, while a \"0\" indicates a passage. A passage is **adjacent** to another passage if the latter can be reached by translating either **one unit up, down, left, or right** or **one unit on a diagonal** from the former. Moving between any adjacent passages has a single cost (i.e. all ``edges\" in the effective maze \"graph\" have equal weight)."
      ],
      "metadata": {
        "id": "RdmzUvFjvyVu"
      }
    },
    {
      "cell_type": "markdown",
      "source": [
        "Below is an example of a maze definition."
      ],
      "metadata": {
        "id": "f-VB5i4X8mDq"
      }
    },
    {
      "cell_type": "code",
      "source": [
        "maze = [[0, 1, 0, 0, 1, 0, 0, 1, 0, 0],\n",
        "        [0, 1, 0, 0, 1, 0, 0, 0, 0, 0],\n",
        "        [0, 0, 1, 0, 1, 0, 1, 0, 0, 0],\n",
        "        [0, 0, 0, 0, 1, 0, 0, 0, 1, 0],\n",
        "        [1, 0, 0, 1, 1, 0, 0, 0, 0, 0],\n",
        "        [0, 0, 1, 0, 0, 0, 0, 0, 0, 0],\n",
        "        [0, 1, 0, 0, 1, 0, 0, 1, 0, 0],\n",
        "        [0, 0, 1, 0, 1, 0, 1, 0, 0, 0],\n",
        "        [0, 0, 0, 0, 1, 0, 1, 0, 1, 0],\n",
        "        [1, 0, 0, 0, 0, 0, 1, 0, 0, 0]]"
      ],
      "metadata": {
        "id": "uFSlsvpq8oCt"
      },
      "execution_count": null,
      "outputs": []
    },
    {
      "cell_type": "markdown",
      "source": [
        "Your goal is to fill in the `Graph` class defined below."
      ],
      "metadata": {
        "id": "PZtVXLn-6djd"
      }
    },
    {
      "cell_type": "markdown",
      "source": [
        "A `Graph` is initialized given a maze defined as described above, which is parsed into a set of effective \"nodes\" and an \"adjacency list.\" These attributes are then used to run A-star from arbitrary start nodes to arbitrary end nodes."
      ],
      "metadata": {
        "id": "4V-w6J2k8uxG"
      }
    },
    {
      "cell_type": "markdown",
      "source": [
        "Use **Euclidean distance** between passages as your A-Star heuristic. Given a passage $v_{(i, j)}$ with coordinates $(i, j)$ in the maze and a target passage $v_{(ii, jj)}$ with coordinates $(ii, jj)$, your A-Star heuristic function should return:\n",
        "\n",
        "$$\n",
        "h(v_{(i, j)}, \\ v_{(ii, jj)}) = \\sqrt{(i - ii)^2 + (j - jj)^2}\n",
        "$$"
      ],
      "metadata": {
        "id": "T7n3Q3qM9KXU"
      }
    },
    {
      "cell_type": "markdown",
      "source": [
        "A correct implementation of the algorithm will pass all of the provided test cases."
      ],
      "metadata": {
        "id": "wSLWJFLZ-Yku"
      }
    },
    {
      "cell_type": "code",
      "source": [
        "from collections import deque\n",
        "\n",
        "class Graph:\n",
        "    def __init__(self, maze):\n",
        "        ### TO DO: FILL ME IN\n",
        "        self.nodes = []\n",
        "        self.adjacency_list = {}\n",
        "        ### TO DO: FILL ME IN\n",
        "       \n",
        "        \n",
        "    def a_star_shortest_path(self, start_node, end_node):\n",
        "        def _heuristic(node, end_node):\n",
        "          ### TO DO: FILL ME IN\n",
        "          return None\n",
        "\n",
        "        ## TO DO: FILL ME IN\n",
        "        return [], float('inf')"
      ],
      "metadata": {
        "id": "ZZPBVGXAuqaA"
      },
      "execution_count": null,
      "outputs": []
    },
    {
      "cell_type": "code",
      "source": [
        "test_cases = [\n",
        "    \n",
        "    ## TEST CASE 1\n",
        "    (\n",
        "        [[0, 0, 0, 0, 1, 0, 0, 0, 0, 0],\n",
        "        [0, 0, 0, 0, 1, 0, 0, 0, 0, 0],\n",
        "        [0, 0, 0, 0, 1, 0, 0, 0, 0, 0],\n",
        "        [0, 0, 0, 0, 1, 0, 0, 0, 0, 0],\n",
        "        [0, 0, 0, 0, 1, 0, 0, 0, 0, 0],\n",
        "        [0, 0, 0, 0, 0, 0, 0, 0, 0, 0],\n",
        "        [0, 0, 0, 0, 1, 0, 0, 0, 0, 0],\n",
        "        [0, 0, 0, 0, 1, 0, 0, 0, 0, 0],\n",
        "        [0, 0, 0, 0, 1, 0, 0, 0, 0, 0],\n",
        "        [0, 0, 0, 0, 0, 0, 0, 0, 0, 0]],\n",
        "        (0, 0),\n",
        "        (7, 9),\n",
        "        [(0, 0), (1, 1), (2, 2), (3, 3), (4, 3), (5, 4), (6, 5), (7, 6), (7, 7), (7, 8), (7, 9)],\n",
        "        10\n",
        "    ),\n",
        "\n",
        "    ## TEST CASE 2\n",
        "\n",
        "    (\n",
        "        [[0, 1, 0, 0, 1, 0, 0, 1, 0, 0],\n",
        "          [0, 1, 0, 0, 1, 0, 0, 0, 0, 0],\n",
        "          [0, 0, 1, 0, 1, 0, 1, 0, 0, 0],\n",
        "          [0, 0, 0, 0, 1, 0, 0, 0, 1, 0],\n",
        "          [1, 0, 0, 1, 1, 0, 0, 0, 0, 0],\n",
        "          [0, 0, 1, 0, 0, 0, 0, 0, 0, 0],\n",
        "          [0, 1, 0, 0, 1, 0, 0, 1, 0, 0],\n",
        "          [0, 0, 1, 0, 1, 0, 1, 0, 0, 0],\n",
        "          [0, 0, 0, 0, 1, 0, 1, 0, 1, 0],\n",
        "          [1, 0, 0, 0, 0, 0, 1, 0, 0, 0]],\n",
        "        (0, 0),\n",
        "        (9, 9),\n",
        "        [(0, 0), (1, 0), (2, 1), (3, 2), (4, 2), (5, 3), (5, 4), (6, 5), (6, 6), (7, 7), (8, 7), (9, 8), (9, 9)],\n",
        "        12\n",
        "    ),\n",
        "\n",
        "  ## TEST CASE 3\n",
        "\n",
        "    (\n",
        "        [[0, 1, 0, 0, 1, 0, 0, 1, 0, 0],\n",
        "          [0, 1, 0, 0, 1, 0, 0, 0, 1, 0],\n",
        "          [0, 0, 1, 0, 1, 0, 1, 0, 0, 1],\n",
        "          [1, 1, 0, 1, 1, 0, 0, 1, 1, 0],\n",
        "          [1, 0, 0, 1, 1, 0, 0, 1, 0, 0],\n",
        "          [0, 0, 1, 0, 0, 0, 0, 1, 0, 1],\n",
        "          [0, 1, 0, 0, 1, 0, 0, 1, 0, 0],\n",
        "          [0, 0, 1, 0, 1, 0, 1, 0, 0, 0],\n",
        "          [0, 0, 0, 1, 1, 0, 1, 0, 1, 0],\n",
        "          [1, 1, 0, 0, 0, 0, 1, 0, 0, 0]],\n",
        "        (1, 2),\n",
        "        (5, 8),\n",
        "        [(1, 2), (2, 3), (3, 2), (4, 2), (5, 3), (5, 4), (5, 5), (6, 6), (7, 7), (6, 8), (5, 8)],\n",
        "         10\n",
        "    )\n",
        "\n",
        "\n",
        "\n",
        "]"
      ],
      "metadata": {
        "id": "j8IudFCAyoRa"
      },
      "execution_count": null,
      "outputs": []
    },
    {
      "cell_type": "code",
      "source": [
        "def verify_algorithm(maze, start, end, path, distance):\n",
        "    graph = Graph(maze)\n",
        "    returned_path, returned_distance = graph.a_star_shortest_path(start, end)\n",
        "    \n",
        "    try:\n",
        "      assert list(returned_path) == path\n",
        "      assert returned_distance == distance\n",
        "    except:\n",
        "      return 0\n",
        "    return 1\n",
        "\n",
        "num_test_cases_passed = 0\n",
        "\n",
        "for (maze, start, end, correct_path, correct_dist) in test_cases:\n",
        "  num_test_cases_passed += verify_algorithm(maze, start, end, correct_path, correct_dist)\n",
        "\n",
        "print(f'num test cases passed: {num_test_cases_passed} / 3')"
      ],
      "metadata": {
        "colab": {
          "base_uri": "https://localhost:8080/"
        },
        "id": "P9Ta2rxh0lsm",
        "outputId": "3c513e3f-2a42-4f6c-f864-8cbda750531e"
      },
      "execution_count": null,
      "outputs": [
        {
          "output_type": "stream",
          "name": "stdout",
          "text": [
            "num test cases passed: 3 / 3\n"
          ]
        }
      ]
    }
  ]
}